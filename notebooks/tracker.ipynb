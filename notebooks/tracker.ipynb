{
 "cells": [
  {
   "cell_type": "markdown",
   "metadata": {},
   "source": [
    "# Tracker\n",
    "\n",
    "Here you specify indicators and the logger stores them temporarily and write in batches.\n",
    "It can aggregate and write them as means or histograms."
   ]
  },
  {
   "cell_type": "code",
   "execution_count": 8,
   "metadata": {},
   "outputs": [],
   "source": [
    "import time\n",
    "\n",
    "import numpy as np\n",
    "\n",
    "from lab import loop, tracker, logger\n",
    "\n",
    "# dummy train function\n",
    "def train():\n",
    "    return np.random.randint(100)\n",
    "\n",
    "# Reset global step because we incremented in previous loop\n",
    "loop.set_global_step(0)"
   ]
  },
  {
   "cell_type": "markdown",
   "metadata": {},
   "source": [
    "This stores all the loss values and writes the logs the mean on every tenth iteration.\n",
    "Console output line is replaced until `:func:lab.logger.log` is called."
   ]
  },
  {
   "cell_type": "code",
   "execution_count": 9,
   "metadata": {},
   "outputs": [
    {
     "data": {
      "text/html": [
       "<pre>\n",
       "\n",
       "\n",
       "</pre>"
      ],
      "text/plain": [
       "<IPython.core.display.HTML object>"
      ]
     },
     "metadata": {},
     "output_type": "display_data"
    }
   ],
   "source": [
    "for i in range(1, 401):\n",
    "    loop.add_global_step()\n",
    "    loss = train()\n",
    "    tracker.add(loss=loss)\n",
    "    if i % 10 == 0:\n",
    "        tracker.save()\n",
    "    if i % 100 == 0:\n",
    "        logger.log()\n",
    "    time.sleep(0.02)"
   ]
  },
  {
   "cell_type": "markdown",
   "metadata": {},
   "source": [
    "## Indicator settings"
   ]
  },
  {
   "cell_type": "code",
   "execution_count": 10,
   "metadata": {},
   "outputs": [],
   "source": [
    "# dummy train function\n",
    "def train2(idx):\n",
    "    return idx, 10, np.random.randint(100)\n",
    "\n",
    "# Reset global step because we incremented in previous loop\n",
    "loop.set_global_step(0)"
   ]
  },
  {
   "cell_type": "markdown",
   "metadata": {},
   "source": [
    "Histogram indicators will log a histogram of data.\n",
    "Queue will store data in a `deque` of size `queue_size`, and log histograms.\n",
    "Both of these will log the means too. And if `is_print` is `True` it will print the mean."
   ]
  },
  {
   "cell_type": "markdown",
   "metadata": {},
   "source": [
    "queue size of `10` and the values are printed to the console"
   ]
  },
  {
   "cell_type": "code",
   "execution_count": 11,
   "metadata": {},
   "outputs": [],
   "source": [
    "tracker.set_queue('reward', 10, True)"
   ]
  },
  {
   "cell_type": "markdown",
   "metadata": {},
   "source": [
    "By default values are not printed to console; i.e. `is_print` defaults to `False`."
   ]
  },
  {
   "cell_type": "code",
   "execution_count": 13,
   "metadata": {},
   "outputs": [],
   "source": [
    "tracker.set_scalar('policy')"
   ]
  },
  {
   "cell_type": "markdown",
   "metadata": {},
   "source": [
    "Settings `is_print` to `True` will print the mean value of histogram to console"
   ]
  },
  {
   "cell_type": "code",
   "execution_count": 14,
   "metadata": {},
   "outputs": [],
   "source": [
    "tracker.set_histogram('value', True)"
   ]
  },
  {
   "cell_type": "code",
   "execution_count": 15,
   "metadata": {},
   "outputs": [
    {
     "data": {
      "text/html": [
       "<pre>\n",
       "\n",
       "\n",
       "<strong><span style=\"color: #DDB62B\">     390:  </span></strong> loss: <strong> 1.00000</strong> reward: <strong> 385.500</strong> value: <strong> 56.6000</strong></pre>"
      ],
      "text/plain": [
       "<IPython.core.display.HTML object>"
      ]
     },
     "metadata": {},
     "output_type": "display_data"
    }
   ],
   "source": [
    "for i in range(1, 400):\n",
    "    loop.add_global_step()\n",
    "    reward, policy, value = train2(i)\n",
    "    tracker.add(reward=reward, policy=policy, value=value, loss=1.)\n",
    "    if i % 10 == 0:\n",
    "        tracker.save()\n",
    "    if i % 100 == 0:\n",
    "        logger.log()"
   ]
  },
  {
   "cell_type": "code",
   "execution_count": null,
   "metadata": {},
   "outputs": [],
   "source": []
  }
 ],
 "metadata": {
  "kernelspec": {
   "display_name": "Python 3",
   "language": "python",
   "name": "python3"
  },
  "language_info": {
   "codemirror_mode": {
    "name": "ipython",
    "version": 3
   },
   "file_extension": ".py",
   "mimetype": "text/x-python",
   "name": "python",
   "nbconvert_exporter": "python",
   "pygments_lexer": "ipython3",
   "version": "3.7.5"
  },
  "pycharm": {
   "stem_cell": {
    "cell_type": "raw",
    "metadata": {
     "collapsed": false
    },
    "source": []
   }
  }
 },
 "nbformat": 4,
 "nbformat_minor": 2
}
