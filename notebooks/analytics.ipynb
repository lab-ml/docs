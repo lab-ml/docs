{
 "cells": [
  {
   "cell_type": "markdown",
   "metadata": {},
   "source": [
    "# Logger"
   ]
  },
  {
   "cell_type": "markdown",
   "metadata": {},
   "source": [
    "`.. currentmodule:: labml.analytics`"
   ]
  },
  {
   "cell_type": "code",
   "execution_count": 1,
   "metadata": {},
   "outputs": [],
   "source": [
    "from labml import analytics"
   ]
  },
  {
   "cell_type": "markdown",
   "metadata": {},
   "source": [
    "## Loading up a run"
   ]
  },
  {
   "cell_type": "code",
   "execution_count": 2,
   "metadata": {},
   "outputs": [],
   "source": [
    "ind = analytics.runs('d76d3922a8a211eaa7a2857d91b0cff2')"
   ]
  },
  {
   "cell_type": "code",
   "execution_count": null,
   "metadata": {
    "scrolled": true
   },
   "outputs": [],
   "source": [
    "analytics.distribution(ind.valid_loss + ind.train_loss, width=700, height=300)"
   ]
  },
  {
   "cell_type": "markdown",
   "metadata": {},
   "source": [
    "Or, specify colors"
   ]
  },
  {
   "cell_type": "code",
   "execution_count": null,
   "metadata": {},
   "outputs": [],
   "source": [
    "series, names = analytics.artifact_data(ind.valid_loss)\n",
    "predictions, target, ref, strike_low, strike_high = series\n",
    "last_prediction = predictions[-1][1]"
   ]
  },
  {
   "cell_type": "markdown",
   "metadata": {},
   "source": [
    "## Logging debug info"
   ]
  },
  {
   "cell_type": "markdown",
   "metadata": {},
   "source": [
    "You can pretty print python objects with `:meth:inspect`."
   ]
  },
  {
   "cell_type": "code",
   "execution_count": 6,
   "metadata": {
    "scrolled": true
   },
   "outputs": [
    {
     "data": {
      "text/html": [
       "<pre><span style=\"color: #60C6C8\">a: </span><strong>2</strong>\n",
       "<span style=\"color: #60C6C8\">b: </span><strong>1</strong></pre>"
      ],
      "text/plain": [
       "<IPython.core.display.HTML object>"
      ]
     },
     "metadata": {},
     "output_type": "display_data"
    }
   ],
   "source": [
    "logger.inspect(a=2, b=1)"
   ]
  },
  {
   "cell_type": "code",
   "execution_count": 7,
   "metadata": {},
   "outputs": [
    {
     "data": {
      "text/html": [
       "<pre><span style=\"color: #60C6C8\"> name: </span><span style=\"color: #C5C1B4\">\"</span><strong>Name</strong><span style=\"color: #C5C1B4\">\"</span>\n",
       "<span style=\"color: #60C6C8\">price: </span><strong>22</strong>\n",
       "Total <span style=\"color: #208FFB\">2</span> item(s)</pre>"
      ],
      "text/plain": [
       "<IPython.core.display.HTML object>"
      ]
     },
     "metadata": {},
     "output_type": "display_data"
    }
   ],
   "source": [
    "logger.inspect(dict(name='Name', price=22))"
   ]
  },
  {
   "cell_type": "markdown",
   "metadata": {},
   "source": [
    "Log PyTorch tensors and NumPy arrays"
   ]
  },
  {
   "cell_type": "code",
   "execution_count": 8,
   "metadata": {},
   "outputs": [
    {
     "data": {
      "text/html": [
       "<pre><span style=\"color: #C5C1B4\">dtype: </span><span style=\"color: #208FFB\">torch.int64</span>\n",
       "<span style=\"color: #C5C1B4\">shape: </span><strong>[10, 10]</strong>\n",
       "<span style=\"color: #C5C1B4\">min: </span><span style=\"color: #208FFB\">0</span> <span style=\"color: #C5C1B4\">max: </span><span style=\"color: #208FFB\">99</span> <span style=\"color: #C5C1B4\">mean: </span><span style=\"color: #208FFB\">49.5</span> <span style=\"color: #C5C1B4\">std: </span><span style=\"color: #208FFB\">29.011491775512695</span>\n",
       "<strong></strong><span style=\"color: #C5C1B4\">[</span><strong></strong>\n",
       "<strong></strong><strong> </strong><span style=\"color: #C5C1B4\">[</span><strong>0</strong><strong>, </strong><strong>1</strong><strong>, </strong><strong>2</strong><strong>, </strong><span style=\"color: #C5C1B4\">...</span><strong>, </strong><strong>9</strong><strong> </strong><span style=\"color: #C5C1B4\">]</span><strong>, </strong><strong></strong>\n",
       "<strong></strong><strong> </strong><span style=\"color: #C5C1B4\">[</span><strong>1</strong><strong>0</strong><strong>, </strong><strong>1</strong><strong>1</strong><strong>, </strong><strong>1</strong><strong>2</strong><strong>, </strong><span style=\"color: #C5C1B4\">...</span><strong>, </strong><strong>1</strong><strong>9</strong><strong> </strong><span style=\"color: #C5C1B4\">]</span><strong>, </strong><strong></strong>\n",
       "<strong></strong><strong> </strong><span style=\"color: #C5C1B4\">[</span><strong>2</strong><strong>0</strong><strong>, </strong><strong>2</strong><strong>1</strong><strong>, </strong><strong>2</strong><strong>2</strong><strong>, </strong><span style=\"color: #C5C1B4\">...</span><strong>, </strong><strong>2</strong><strong>9</strong><strong> </strong><span style=\"color: #C5C1B4\">]</span><strong>, </strong><strong></strong>\n",
       "<strong></strong><strong> </strong><span style=\"color: #C5C1B4\">...</span><strong>, </strong><strong></strong>\n",
       "<strong></strong><strong> </strong><span style=\"color: #C5C1B4\">[</span><strong>9</strong><strong>0</strong><strong>, </strong><strong>9</strong><strong>1</strong><strong>, </strong><strong>9</strong><strong>2</strong><strong>, </strong><span style=\"color: #C5C1B4\">...</span><strong>, </strong><strong>9</strong><strong>9</strong><strong> </strong><span style=\"color: #C5C1B4\">]</span><strong></strong>\n",
       "<strong></strong><strong></strong><span style=\"color: #C5C1B4\">]</span></pre>"
      ],
      "text/plain": [
       "<IPython.core.display.HTML object>"
      ]
     },
     "metadata": {},
     "output_type": "display_data"
    }
   ],
   "source": [
    "import torch\n",
    "\n",
    "torch_tensor = torch.arange(0, 100).view(10, 10)\n",
    "logger.inspect(torch_tensor)"
   ]
  },
  {
   "cell_type": "code",
   "execution_count": 9,
   "metadata": {},
   "outputs": [
    {
     "data": {
      "text/html": [
       "<pre><span style=\"color: #C5C1B4\">dtype: </span><span style=\"color: #208FFB\">int64</span>\n",
       "<span style=\"color: #C5C1B4\">shape: </span><strong>[10, 10]</strong>\n",
       "<span style=\"color: #C5C1B4\">min: </span><span style=\"color: #208FFB\">0</span> <span style=\"color: #C5C1B4\">max: </span><span style=\"color: #208FFB\">99</span> <span style=\"color: #C5C1B4\">mean: </span><span style=\"color: #208FFB\">49.5</span> <span style=\"color: #C5C1B4\">std: </span><span style=\"color: #208FFB\">28.86607004772212</span>\n",
       "<strong></strong><span style=\"color: #C5C1B4\">[</span><strong></strong>\n",
       "<strong></strong><strong> </strong><span style=\"color: #C5C1B4\">[</span><strong>0</strong><strong>, </strong><strong>1</strong><strong>, </strong><strong>2</strong><strong>, </strong><span style=\"color: #C5C1B4\">...</span><strong>, </strong><strong>9</strong><strong> </strong><span style=\"color: #C5C1B4\">]</span><strong>, </strong><strong></strong>\n",
       "<strong></strong><strong> </strong><span style=\"color: #C5C1B4\">[</span><strong>1</strong><strong>0</strong><strong>, </strong><strong>1</strong><strong>1</strong><strong>, </strong><strong>1</strong><strong>2</strong><strong>, </strong><span style=\"color: #C5C1B4\">...</span><strong>, </strong><strong>1</strong><strong>9</strong><strong> </strong><span style=\"color: #C5C1B4\">]</span><strong>, </strong><strong></strong>\n",
       "<strong></strong><strong> </strong><span style=\"color: #C5C1B4\">[</span><strong>2</strong><strong>0</strong><strong>, </strong><strong>2</strong><strong>1</strong><strong>, </strong><strong>2</strong><strong>2</strong><strong>, </strong><span style=\"color: #C5C1B4\">...</span><strong>, </strong><strong>2</strong><strong>9</strong><strong> </strong><span style=\"color: #C5C1B4\">]</span><strong>, </strong><strong></strong>\n",
       "<strong></strong><strong> </strong><span style=\"color: #C5C1B4\">...</span><strong>, </strong><strong></strong>\n",
       "<strong></strong><strong> </strong><span style=\"color: #C5C1B4\">[</span><strong>9</strong><strong>0</strong><strong>, </strong><strong>9</strong><strong>1</strong><strong>, </strong><strong>9</strong><strong>2</strong><strong>, </strong><span style=\"color: #C5C1B4\">...</span><strong>, </strong><strong>9</strong><strong>9</strong><strong> </strong><span style=\"color: #C5C1B4\">]</span><strong></strong>\n",
       "<strong></strong><strong></strong><span style=\"color: #C5C1B4\">]</span></pre>"
      ],
      "text/plain": [
       "<IPython.core.display.HTML object>"
      ]
     },
     "metadata": {},
     "output_type": "display_data"
    }
   ],
   "source": [
    "numpy_array = torch_tensor.numpy()\n",
    "logger.inspect(numpy_array)"
   ]
  },
  {
   "cell_type": "code",
   "execution_count": null,
   "metadata": {},
   "outputs": [],
   "source": []
  }
 ],
 "metadata": {
  "kernelspec": {
   "display_name": "Python 3",
   "language": "python",
   "name": "python3"
  },
  "language_info": {
   "codemirror_mode": {
    "name": "ipython",
    "version": 3
   },
   "file_extension": ".py",
   "mimetype": "text/x-python",
   "name": "python",
   "nbconvert_exporter": "python",
   "pygments_lexer": "ipython3",
   "version": "3.7.5"
  },
  "pycharm": {
   "stem_cell": {
    "cell_type": "raw",
    "metadata": {
     "collapsed": false
    },
    "source": []
   }
  }
 },
 "nbformat": 4,
 "nbformat_minor": 2
}
