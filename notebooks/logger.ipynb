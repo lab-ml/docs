{
 "cells": [
  {
   "cell_type": "markdown",
   "metadata": {},
   "source": [
    "# Logger"
   ]
  },
  {
   "cell_type": "markdown",
   "metadata": {},
   "source": [
    "`.. currentmodule:: labml.logger`"
   ]
  },
  {
   "cell_type": "code",
   "execution_count": 1,
   "metadata": {},
   "outputs": [],
   "source": [
    "from labml import logger\n",
    "from labml.logger import Text, Color"
   ]
  },
  {
   "cell_type": "markdown",
   "metadata": {},
   "source": [
    "You can log to the screen with `:func:log`."
   ]
  },
  {
   "cell_type": "markdown",
   "metadata": {},
   "source": [
    "## Logging with colors"
   ]
  },
  {
   "cell_type": "code",
   "execution_count": 2,
   "metadata": {},
   "outputs": [
    {
     "data": {
      "text/html": [
       "<pre style=\"overflow-x: scroll;\"><strong><span style=\"color: #DDB62B\">Colors are missing when viewed on github</span></strong></pre>"
      ],
      "text/plain": [
       "<IPython.core.display.HTML object>"
      ]
     },
     "metadata": {},
     "output_type": "display_data"
    }
   ],
   "source": [
    "logger.log(\"Colors are missing when viewed on github\", Text.highlight)"
   ]
  },
  {
   "cell_type": "markdown",
   "metadata": {},
   "source": [
    "You can use predifined styles"
   ]
  },
  {
   "cell_type": "code",
   "execution_count": 3,
   "metadata": {},
   "outputs": [
    {
     "data": {
      "text/html": [
       "<pre style=\"overflow-x: scroll;\"><span style=\"text-decoration: underline\">Styles </span><span style=\"color: #E75C58\">Danger </span><span style=\"color: #DDB62B\">Warning </span><span style=\"color: #208FFB\">Meta </span><span style=\"color: #60C6C8\">Key </span><span style=\"color: #D160C4\">Meta2 </span><strong><span style=\"text-decoration: underline\">Title </span></strong><span style=\"text-decoration: underline\">Heading </span><strong>Value </strong><strong><span style=\"color: #DDB62B\">Highlight </span></strong><span style=\"color: #C5C1B4\">Subtle</span></pre>"
      ],
      "text/plain": [
       "<IPython.core.display.HTML object>"
      ]
     },
     "metadata": {},
     "output_type": "display_data"
    }
   ],
   "source": [
    "logger.log([\n",
    "    ('Styles ', Text.heading),\n",
    "    ('Danger ', Text.danger),\n",
    "    ('Warning ', Text.warning),\n",
    "    ('Meta ', Text.meta),\n",
    "    ('Key ', Text.key),\n",
    "    ('Meta2 ', Text.meta2),\n",
    "    ('Title ', Text.title),\n",
    "    ('Heading ', Text.heading),\n",
    "    ('Value ', Text.value),\n",
    "    ('Highlight ', Text.highlight),\n",
    "    ('Subtle', Text.subtle)\n",
    "])"
   ]
  },
  {
   "cell_type": "markdown",
   "metadata": {},
   "source": [
    "Or, specify colors"
   ]
  },
  {
   "cell_type": "code",
   "execution_count": 4,
   "metadata": {},
   "outputs": [
    {
     "data": {
      "text/html": [
       "<pre style=\"overflow-x: scroll;\"><span style=\"text-decoration: underline\">Colors </span><span style=\"color: #E75C58\">Red </span><span style=\"color: #3E424D\">Black </span><span style=\"color: #208FFB\">Blue </span><span style=\"color: #60C6C8\">Cyan </span><span style=\"color: #00A250\">Green </span><span style=\"color: #DDB62B\">Orange </span><span style=\"color: #D160C4\"><span style=\"text-decoration: underline\">Purple Heading </span></span><span style=\"color: #C5C1B4\">White</span></pre>"
      ],
      "text/plain": [
       "<IPython.core.display.HTML object>"
      ]
     },
     "metadata": {},
     "output_type": "display_data"
    }
   ],
   "source": [
    "logger.log([\n",
    "    ('Colors ', Text.heading),\n",
    "    ('Red ', Color.red),\n",
    "    ('Black ', Color.black),\n",
    "    ('Blue ', Color.blue),\n",
    "    ('Cyan ', Color.cyan),\n",
    "    ('Green ', Color.green),\n",
    "    ('Orange ', Color.orange),\n",
    "    ('Purple Heading ', [Color.purple, Text.heading]),\n",
    "    ('White', Color.white),\n",
    "])"
   ]
  },
  {
   "cell_type": "markdown",
   "metadata": {},
   "source": [
    "## Logging debug info"
   ]
  },
  {
   "cell_type": "markdown",
   "metadata": {},
   "source": [
    "You can pretty print python objects with `:meth:inspect`."
   ]
  },
  {
   "cell_type": "code",
   "execution_count": 5,
   "metadata": {
    "scrolled": true
   },
   "outputs": [
    {
     "data": {
      "text/html": [
       "<pre style=\"overflow-x: scroll;\"><span style=\"color: #60C6C8\">a: </span><strong>2</strong>\n",
       "<span style=\"color: #60C6C8\">b: </span><strong>1</strong></pre>"
      ],
      "text/plain": [
       "<IPython.core.display.HTML object>"
      ]
     },
     "metadata": {},
     "output_type": "display_data"
    }
   ],
   "source": [
    "logger.inspect(a=2, b=1)"
   ]
  },
  {
   "cell_type": "code",
   "execution_count": 6,
   "metadata": {},
   "outputs": [
    {
     "data": {
      "text/html": [
       "<pre style=\"overflow-x: scroll;\"><span style=\"color: #60C6C8\"> name: </span><span style=\"color: #C5C1B4\">\"</span><strong>Name</strong><span style=\"color: #C5C1B4\">\"</span>\n",
       "<span style=\"color: #60C6C8\">price: </span><strong>22</strong>\n",
       "Total <span style=\"color: #208FFB\">2</span> item(s)</pre>"
      ],
      "text/plain": [
       "<IPython.core.display.HTML object>"
      ]
     },
     "metadata": {},
     "output_type": "display_data"
    }
   ],
   "source": [
    "logger.inspect(dict(name='Name', price=22))"
   ]
  },
  {
   "cell_type": "markdown",
   "metadata": {},
   "source": [
    "Log PyTorch tensors and NumPy arrays"
   ]
  },
  {
   "cell_type": "code",
   "execution_count": 7,
   "metadata": {},
   "outputs": [
    {
     "data": {
      "text/html": [
       "<pre style=\"overflow-x: scroll;\"><span style=\"color: #C5C1B4\">dtype: </span><span style=\"color: #208FFB\">torch.int64</span>\n",
       "<span style=\"color: #C5C1B4\">shape: </span><strong>[10, 10]</strong>\n",
       "<span style=\"color: #C5C1B4\">min: </span><span style=\"color: #208FFB\">0</span> <span style=\"color: #C5C1B4\">max: </span><span style=\"color: #208FFB\">99</span> <span style=\"color: #C5C1B4\">mean: </span><span style=\"color: #208FFB\"> 49.5000</span> <span style=\"color: #C5C1B4\">std: </span><span style=\"color: #208FFB\"> 29.0115</span>\n",
       "<strong></strong><span style=\"color: #C5C1B4\">[</span><strong></strong>\n",
       "<strong></strong><strong> </strong><span style=\"color: #C5C1B4\">[</span><strong>0</strong><strong>, </strong><strong>1</strong><strong>, </strong><strong>2</strong><strong>, </strong><span style=\"color: #C5C1B4\">...</span><strong>, </strong><strong>9</strong><strong> </strong><span style=\"color: #C5C1B4\">]</span><strong>, </strong><strong></strong>\n",
       "<strong></strong><strong> </strong><span style=\"color: #C5C1B4\">[</span><strong>10</strong><strong>, </strong><strong>11</strong><strong>, </strong><strong>12</strong><strong>, </strong><span style=\"color: #C5C1B4\">...</span><strong>, </strong><strong>19</strong><strong> </strong><span style=\"color: #C5C1B4\">]</span><strong>, </strong><strong></strong>\n",
       "<strong></strong><strong> </strong><span style=\"color: #C5C1B4\">[</span><strong>20</strong><strong>, </strong><strong>21</strong><strong>, </strong><strong>22</strong><strong>, </strong><span style=\"color: #C5C1B4\">...</span><strong>, </strong><strong>29</strong><strong> </strong><span style=\"color: #C5C1B4\">]</span><strong>, </strong><strong></strong>\n",
       "<strong></strong><strong> </strong><span style=\"color: #C5C1B4\">...</span><strong>, </strong><strong></strong>\n",
       "<strong></strong><strong> </strong><span style=\"color: #C5C1B4\">[</span><strong>90</strong><strong>, </strong><strong>91</strong><strong>, </strong><strong>92</strong><strong>, </strong><span style=\"color: #C5C1B4\">...</span><strong>, </strong><strong>99</strong><strong> </strong><span style=\"color: #C5C1B4\">]</span><strong></strong>\n",
       "<strong></strong><strong></strong><span style=\"color: #C5C1B4\">]</span></pre>"
      ],
      "text/plain": [
       "<IPython.core.display.HTML object>"
      ]
     },
     "metadata": {},
     "output_type": "display_data"
    }
   ],
   "source": [
    "import torch\n",
    "\n",
    "torch_tensor = torch.arange(0, 100).view(10, 10)\n",
    "logger.inspect(torch_tensor)"
   ]
  },
  {
   "cell_type": "code",
   "execution_count": 8,
   "metadata": {},
   "outputs": [
    {
     "data": {
      "text/html": [
       "<pre style=\"overflow-x: scroll;\"><span style=\"color: #C5C1B4\">dtype: </span><span style=\"color: #208FFB\">int64</span>\n",
       "<span style=\"color: #C5C1B4\">shape: </span><strong>[10, 10]</strong>\n",
       "<span style=\"color: #C5C1B4\">min: </span><span style=\"color: #208FFB\">0</span> <span style=\"color: #C5C1B4\">max: </span><span style=\"color: #208FFB\">99</span> <span style=\"color: #C5C1B4\">mean: </span><span style=\"color: #208FFB\"> 49.5000</span> <span style=\"color: #C5C1B4\">std: </span><span style=\"color: #208FFB\"> 28.8661</span>\n",
       "<strong></strong><span style=\"color: #C5C1B4\">[</span><strong></strong>\n",
       "<strong></strong><strong> </strong><span style=\"color: #C5C1B4\">[</span><strong>0</strong><strong>, </strong><strong>1</strong><strong>, </strong><strong>2</strong><strong>, </strong><span style=\"color: #C5C1B4\">...</span><strong>, </strong><strong>9</strong><strong> </strong><span style=\"color: #C5C1B4\">]</span><strong>, </strong><strong></strong>\n",
       "<strong></strong><strong> </strong><span style=\"color: #C5C1B4\">[</span><strong>10</strong><strong>, </strong><strong>11</strong><strong>, </strong><strong>12</strong><strong>, </strong><span style=\"color: #C5C1B4\">...</span><strong>, </strong><strong>19</strong><strong> </strong><span style=\"color: #C5C1B4\">]</span><strong>, </strong><strong></strong>\n",
       "<strong></strong><strong> </strong><span style=\"color: #C5C1B4\">[</span><strong>20</strong><strong>, </strong><strong>21</strong><strong>, </strong><strong>22</strong><strong>, </strong><span style=\"color: #C5C1B4\">...</span><strong>, </strong><strong>29</strong><strong> </strong><span style=\"color: #C5C1B4\">]</span><strong>, </strong><strong></strong>\n",
       "<strong></strong><strong> </strong><span style=\"color: #C5C1B4\">...</span><strong>, </strong><strong></strong>\n",
       "<strong></strong><strong> </strong><span style=\"color: #C5C1B4\">[</span><strong>90</strong><strong>, </strong><strong>91</strong><strong>, </strong><strong>92</strong><strong>, </strong><span style=\"color: #C5C1B4\">...</span><strong>, </strong><strong>99</strong><strong> </strong><span style=\"color: #C5C1B4\">]</span><strong></strong>\n",
       "<strong></strong><strong></strong><span style=\"color: #C5C1B4\">]</span></pre>"
      ],
      "text/plain": [
       "<IPython.core.display.HTML object>"
      ]
     },
     "metadata": {},
     "output_type": "display_data"
    }
   ],
   "source": [
    "numpy_array = torch_tensor.numpy()\n",
    "logger.inspect(numpy_array)"
   ]
  }
 ],
 "metadata": {
  "kernelspec": {
   "display_name": "Python 3",
   "language": "python",
   "name": "python3"
  },
  "language_info": {
   "codemirror_mode": {
    "name": "ipython",
    "version": 3
   },
   "file_extension": ".py",
   "mimetype": "text/x-python",
   "name": "python",
   "nbconvert_exporter": "python",
   "pygments_lexer": "ipython3",
   "version": "3.7.5"
  },
  "pycharm": {
   "stem_cell": {
    "cell_type": "raw",
    "metadata": {
     "collapsed": false
    },
    "source": []
   }
  }
 },
 "nbformat": 4,
 "nbformat_minor": 2
}
